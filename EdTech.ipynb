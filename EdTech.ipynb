{
 "cells": [
  {
   "cell_type": "code",
   "execution_count": 1,
   "id": "8edcd993",
   "metadata": {},
   "outputs": [],
   "source": [
    "import pandas as pd\n",
    "import numpy as np\n",
    "import matplotlib.pyplot as plt\n",
    "import seaborn as sns\n",
    "from sklearn.preprocessing import StandardScaler\n",
    "from statsmodels.stats.outliers_influence import  variance_inflation_factor"
   ]
  },
  {
   "cell_type": "code",
   "execution_count": 2,
   "id": "93026a3c",
   "metadata": {},
   "outputs": [],
   "source": [
    "df=pd.read_excel(\"EdTech.xlsx\")"
   ]
  },
  {
   "cell_type": "code",
   "execution_count": 3,
   "id": "bd01601f",
   "metadata": {},
   "outputs": [],
   "source": [
    "df.columns = df.columns.str.replace(' ','_')"
   ]
  },
  {
   "cell_type": "code",
   "execution_count": 4,
   "id": "1abee431",
   "metadata": {
    "scrolled": true
   },
   "outputs": [
    {
     "data": {
      "text/html": [
       "<div>\n",
       "<style scoped>\n",
       "    .dataframe tbody tr th:only-of-type {\n",
       "        vertical-align: middle;\n",
       "    }\n",
       "\n",
       "    .dataframe tbody tr th {\n",
       "        vertical-align: top;\n",
       "    }\n",
       "\n",
       "    .dataframe thead th {\n",
       "        text-align: right;\n",
       "    }\n",
       "</style>\n",
       "<table border=\"1\" class=\"dataframe\">\n",
       "  <thead>\n",
       "    <tr style=\"text-align: right;\">\n",
       "      <th></th>\n",
       "      <th>S.No</th>\n",
       "      <th>Institute</th>\n",
       "      <th>Institute_brand_value</th>\n",
       "      <th>Course_Offered</th>\n",
       "      <th>Course_level</th>\n",
       "      <th>No_of_Instructors</th>\n",
       "      <th>Total_Course_Hours</th>\n",
       "      <th>Mode_of_Course</th>\n",
       "      <th>Webportal_LifetimeAccess</th>\n",
       "      <th>Certification_Exam</th>\n",
       "      <th>Placement_Offered</th>\n",
       "      <th>Level</th>\n",
       "      <th>R&amp;D_Spend</th>\n",
       "      <th>Marketing_Spend</th>\n",
       "      <th>Administration</th>\n",
       "      <th>Price</th>\n",
       "    </tr>\n",
       "  </thead>\n",
       "  <tbody>\n",
       "    <tr>\n",
       "      <th>0</th>\n",
       "      <td>1</td>\n",
       "      <td>Ineuron</td>\n",
       "      <td>Low</td>\n",
       "      <td>Data_Science</td>\n",
       "      <td>Intermediate</td>\n",
       "      <td>2</td>\n",
       "      <td>400</td>\n",
       "      <td>Offline</td>\n",
       "      <td>Yes</td>\n",
       "      <td>No</td>\n",
       "      <td>Yes</td>\n",
       "      <td>A</td>\n",
       "      <td>165349.20</td>\n",
       "      <td>471784.10</td>\n",
       "      <td>136897.80</td>\n",
       "      <td>35000</td>\n",
       "    </tr>\n",
       "    <tr>\n",
       "      <th>1</th>\n",
       "      <td>2</td>\n",
       "      <td>Great_Learning</td>\n",
       "      <td>High</td>\n",
       "      <td>Ethical_hacking</td>\n",
       "      <td>Intermediate</td>\n",
       "      <td>4</td>\n",
       "      <td>300</td>\n",
       "      <td>Online</td>\n",
       "      <td>Yes</td>\n",
       "      <td>Yes</td>\n",
       "      <td>No</td>\n",
       "      <td>A</td>\n",
       "      <td>162597.70</td>\n",
       "      <td>443898.53</td>\n",
       "      <td>151377.59</td>\n",
       "      <td>70000</td>\n",
       "    </tr>\n",
       "    <tr>\n",
       "      <th>2</th>\n",
       "      <td>3</td>\n",
       "      <td>Edyoda</td>\n",
       "      <td>Medium</td>\n",
       "      <td>AI</td>\n",
       "      <td>Advance</td>\n",
       "      <td>2</td>\n",
       "      <td>600</td>\n",
       "      <td>Online</td>\n",
       "      <td>No</td>\n",
       "      <td>Not Applicable</td>\n",
       "      <td>Yes</td>\n",
       "      <td>A</td>\n",
       "      <td>153441.51</td>\n",
       "      <td>407934.54</td>\n",
       "      <td>101145.55</td>\n",
       "      <td>45000</td>\n",
       "    </tr>\n",
       "    <tr>\n",
       "      <th>3</th>\n",
       "      <td>4</td>\n",
       "      <td>Edyoda</td>\n",
       "      <td>Medium</td>\n",
       "      <td>Tableau</td>\n",
       "      <td>Beginers</td>\n",
       "      <td>2</td>\n",
       "      <td>90</td>\n",
       "      <td>Offline</td>\n",
       "      <td>No</td>\n",
       "      <td>Not Applicable</td>\n",
       "      <td>No</td>\n",
       "      <td>B</td>\n",
       "      <td>144372.41</td>\n",
       "      <td>383199.62</td>\n",
       "      <td>118671.85</td>\n",
       "      <td>25000</td>\n",
       "    </tr>\n",
       "    <tr>\n",
       "      <th>4</th>\n",
       "      <td>5</td>\n",
       "      <td>Ineuron</td>\n",
       "      <td>Low</td>\n",
       "      <td>AI</td>\n",
       "      <td>Advance</td>\n",
       "      <td>2</td>\n",
       "      <td>600</td>\n",
       "      <td>Online</td>\n",
       "      <td>Yes</td>\n",
       "      <td>No</td>\n",
       "      <td>No</td>\n",
       "      <td>B</td>\n",
       "      <td>142107.34</td>\n",
       "      <td>366168.42</td>\n",
       "      <td>91391.77</td>\n",
       "      <td>45000</td>\n",
       "    </tr>\n",
       "  </tbody>\n",
       "</table>\n",
       "</div>"
      ],
      "text/plain": [
       "   S.No       Institute Institute_brand_value   Course_Offered  Course_level  \\\n",
       "0     1         Ineuron                   Low     Data_Science  Intermediate   \n",
       "1     2  Great_Learning                  High  Ethical_hacking  Intermediate   \n",
       "2     3          Edyoda                Medium               AI       Advance   \n",
       "3     4          Edyoda                Medium          Tableau      Beginers   \n",
       "4     5         Ineuron                   Low               AI       Advance   \n",
       "\n",
       "   No_of_Instructors  Total_Course_Hours Mode_of_Course  \\\n",
       "0                  2                 400        Offline   \n",
       "1                  4                 300         Online   \n",
       "2                  2                 600         Online   \n",
       "3                  2                  90        Offline   \n",
       "4                  2                 600         Online   \n",
       "\n",
       "  Webportal_LifetimeAccess Certification_Exam Placement_Offered Level  \\\n",
       "0                      Yes                 No               Yes     A   \n",
       "1                      Yes                Yes                No     A   \n",
       "2                       No     Not Applicable               Yes     A   \n",
       "3                       No     Not Applicable                No     B   \n",
       "4                      Yes                 No                No     B   \n",
       "\n",
       "   R&D_Spend  Marketing_Spend  Administration  Price  \n",
       "0  165349.20        471784.10       136897.80  35000  \n",
       "1  162597.70        443898.53       151377.59  70000  \n",
       "2  153441.51        407934.54       101145.55  45000  \n",
       "3  144372.41        383199.62       118671.85  25000  \n",
       "4  142107.34        366168.42        91391.77  45000  "
      ]
     },
     "execution_count": 4,
     "metadata": {},
     "output_type": "execute_result"
    }
   ],
   "source": [
    "df.head()"
   ]
  },
  {
   "cell_type": "code",
   "execution_count": null,
   "id": "02ae78e0",
   "metadata": {
    "scrolled": true
   },
   "outputs": [],
   "source": [
    "df['Course_Offered'].value_counts()"
   ]
  },
  {
   "cell_type": "code",
   "execution_count": null,
   "id": "5b5aee0f",
   "metadata": {},
   "outputs": [],
   "source": [
    "df['Mode_of_Course'].value_counts()"
   ]
  },
  {
   "cell_type": "code",
   "execution_count": null,
   "id": "03b2c79e",
   "metadata": {},
   "outputs": [],
   "source": [
    "df['Institute_brand_value'].value_counts()"
   ]
  },
  {
   "cell_type": "code",
   "execution_count": null,
   "id": "58841128",
   "metadata": {},
   "outputs": [],
   "source": [
    "Institute_brand_value\tCourse_Offered\tCourse_level,Total_Course_Hours,Webportal LifetimeAccess,Certification Exam,Placement Offered"
   ]
  },
  {
   "cell_type": "code",
   "execution_count": null,
   "id": "c1801878",
   "metadata": {},
   "outputs": [],
   "source": [
    "df['Course_level'].value_counts()"
   ]
  },
  {
   "cell_type": "code",
   "execution_count": null,
   "id": "f1407760",
   "metadata": {},
   "outputs": [],
   "source": [
    "df['Webportal_LifetimeAccess'].value_counts()"
   ]
  },
  {
   "cell_type": "code",
   "execution_count": null,
   "id": "e8a31c04",
   "metadata": {},
   "outputs": [],
   "source": [
    "df['Certification_Exam'].value_counts()"
   ]
  },
  {
   "cell_type": "code",
   "execution_count": null,
   "id": "49e52cda",
   "metadata": {},
   "outputs": [],
   "source": [
    "df['Placement_Offered'].value_counts()"
   ]
  },
  {
   "cell_type": "code",
   "execution_count": 5,
   "id": "904f1c16",
   "metadata": {},
   "outputs": [
    {
     "data": {
      "text/plain": [
       "S.No                        0\n",
       "Institute                   0\n",
       "Institute_brand_value       0\n",
       "Course_Offered              0\n",
       "Course_level                0\n",
       "No_of_Instructors           0\n",
       "Total_Course_Hours          0\n",
       "Mode_of_Course              0\n",
       "Webportal_LifetimeAccess    0\n",
       "Certification_Exam          0\n",
       "Placement_Offered           0\n",
       "Level                       0\n",
       "R&D_Spend                   0\n",
       "Marketing_Spend             0\n",
       "Administration              0\n",
       "Price                       0\n",
       "dtype: int64"
      ]
     },
     "execution_count": 5,
     "metadata": {},
     "output_type": "execute_result"
    }
   ],
   "source": [
    "df.isnull().sum()"
   ]
  },
  {
   "cell_type": "code",
   "execution_count": null,
   "id": "44d411b9",
   "metadata": {},
   "outputs": [],
   "source": [
    "#Check for outliers\n",
    "sns.boxplot(data=df,orient='h',palette='Set2')"
   ]
  },
  {
   "cell_type": "code",
   "execution_count": null,
   "id": "3b818bf2",
   "metadata": {},
   "outputs": [],
   "source": [
    "sns.stripplot(data=df,orient='h',palette='Set2')"
   ]
  },
  {
   "cell_type": "code",
   "execution_count": 6,
   "id": "a5b503b0",
   "metadata": {},
   "outputs": [],
   "source": [
    "#Exploratory Data Analysis\n",
    "from scipy import stats\n",
    "import pylab"
   ]
  },
  {
   "cell_type": "code",
   "execution_count": 7,
   "id": "50459ae9",
   "metadata": {},
   "outputs": [],
   "source": [
    "#Dropping un-necessary columns\n",
    "df.drop(['S.No','Institute'],axis=1, inplace=True)"
   ]
  },
  {
   "cell_type": "code",
   "execution_count": null,
   "id": "78c5fba9",
   "metadata": {},
   "outputs": [],
   "source": [
    "#checking linear relationship\n",
    "sns.pairplot(df,kind='scatter')\n",
    "plt.show()"
   ]
  },
  {
   "cell_type": "code",
   "execution_count": 8,
   "id": "5f7826c3",
   "metadata": {},
   "outputs": [
    {
     "name": "stdout",
     "output_type": "stream",
     "text": [
      "<class 'pandas.core.frame.DataFrame'>\n",
      "RangeIndex: 150 entries, 0 to 149\n",
      "Data columns (total 14 columns):\n",
      " #   Column                    Non-Null Count  Dtype  \n",
      "---  ------                    --------------  -----  \n",
      " 0   Institute_brand_value     150 non-null    object \n",
      " 1   Course_Offered            150 non-null    object \n",
      " 2   Course_level              150 non-null    object \n",
      " 3   No_of_Instructors         150 non-null    int64  \n",
      " 4   Total_Course_Hours        150 non-null    int64  \n",
      " 5   Mode_of_Course            150 non-null    object \n",
      " 6   Webportal_LifetimeAccess  150 non-null    object \n",
      " 7   Certification_Exam        150 non-null    object \n",
      " 8   Placement_Offered         150 non-null    object \n",
      " 9   Level                     150 non-null    object \n",
      " 10  R&D_Spend                 150 non-null    float64\n",
      " 11  Marketing_Spend           150 non-null    float64\n",
      " 12  Administration            150 non-null    float64\n",
      " 13  Price                     150 non-null    int64  \n",
      "dtypes: float64(3), int64(3), object(8)\n",
      "memory usage: 16.5+ KB\n"
     ]
    }
   ],
   "source": [
    "df.info()"
   ]
  },
  {
   "cell_type": "code",
   "execution_count": 9,
   "id": "72d80041",
   "metadata": {},
   "outputs": [],
   "source": [
    "from sklearn.preprocessing import LabelEncoder\n",
    "lb = LabelEncoder()"
   ]
  },
  {
   "cell_type": "code",
   "execution_count": 10,
   "id": "f3ab2915",
   "metadata": {},
   "outputs": [],
   "source": [
    "for column_name in df.columns:\n",
    "    if df[column_name].dtype==object:\n",
    "        df[column_name]=lb.fit_transform(df[column_name])\n",
    "    else:\n",
    "        pass        "
   ]
  },
  {
   "cell_type": "code",
   "execution_count": 11,
   "id": "32698db9",
   "metadata": {},
   "outputs": [
    {
     "data": {
      "text/html": [
       "<div>\n",
       "<style scoped>\n",
       "    .dataframe tbody tr th:only-of-type {\n",
       "        vertical-align: middle;\n",
       "    }\n",
       "\n",
       "    .dataframe tbody tr th {\n",
       "        vertical-align: top;\n",
       "    }\n",
       "\n",
       "    .dataframe thead th {\n",
       "        text-align: right;\n",
       "    }\n",
       "</style>\n",
       "<table border=\"1\" class=\"dataframe\">\n",
       "  <thead>\n",
       "    <tr style=\"text-align: right;\">\n",
       "      <th></th>\n",
       "      <th>Institute_brand_value</th>\n",
       "      <th>Course_Offered</th>\n",
       "      <th>Course_level</th>\n",
       "      <th>No_of_Instructors</th>\n",
       "      <th>Total_Course_Hours</th>\n",
       "      <th>Mode_of_Course</th>\n",
       "      <th>Webportal_LifetimeAccess</th>\n",
       "      <th>Certification_Exam</th>\n",
       "      <th>Placement_Offered</th>\n",
       "      <th>Level</th>\n",
       "      <th>R&amp;D_Spend</th>\n",
       "      <th>Marketing_Spend</th>\n",
       "      <th>Administration</th>\n",
       "      <th>Price</th>\n",
       "    </tr>\n",
       "  </thead>\n",
       "  <tbody>\n",
       "    <tr>\n",
       "      <th>0</th>\n",
       "      <td>1</td>\n",
       "      <td>1</td>\n",
       "      <td>2</td>\n",
       "      <td>2</td>\n",
       "      <td>400</td>\n",
       "      <td>0</td>\n",
       "      <td>1</td>\n",
       "      <td>0</td>\n",
       "      <td>1</td>\n",
       "      <td>1</td>\n",
       "      <td>165349.20</td>\n",
       "      <td>471784.10</td>\n",
       "      <td>136897.80</td>\n",
       "      <td>35000</td>\n",
       "    </tr>\n",
       "    <tr>\n",
       "      <th>1</th>\n",
       "      <td>0</td>\n",
       "      <td>2</td>\n",
       "      <td>2</td>\n",
       "      <td>4</td>\n",
       "      <td>300</td>\n",
       "      <td>1</td>\n",
       "      <td>1</td>\n",
       "      <td>2</td>\n",
       "      <td>0</td>\n",
       "      <td>1</td>\n",
       "      <td>162597.70</td>\n",
       "      <td>443898.53</td>\n",
       "      <td>151377.59</td>\n",
       "      <td>70000</td>\n",
       "    </tr>\n",
       "    <tr>\n",
       "      <th>2</th>\n",
       "      <td>2</td>\n",
       "      <td>0</td>\n",
       "      <td>0</td>\n",
       "      <td>2</td>\n",
       "      <td>600</td>\n",
       "      <td>1</td>\n",
       "      <td>0</td>\n",
       "      <td>1</td>\n",
       "      <td>1</td>\n",
       "      <td>1</td>\n",
       "      <td>153441.51</td>\n",
       "      <td>407934.54</td>\n",
       "      <td>101145.55</td>\n",
       "      <td>45000</td>\n",
       "    </tr>\n",
       "    <tr>\n",
       "      <th>3</th>\n",
       "      <td>2</td>\n",
       "      <td>4</td>\n",
       "      <td>1</td>\n",
       "      <td>2</td>\n",
       "      <td>90</td>\n",
       "      <td>0</td>\n",
       "      <td>0</td>\n",
       "      <td>1</td>\n",
       "      <td>0</td>\n",
       "      <td>2</td>\n",
       "      <td>144372.41</td>\n",
       "      <td>383199.62</td>\n",
       "      <td>118671.85</td>\n",
       "      <td>25000</td>\n",
       "    </tr>\n",
       "    <tr>\n",
       "      <th>4</th>\n",
       "      <td>1</td>\n",
       "      <td>0</td>\n",
       "      <td>0</td>\n",
       "      <td>2</td>\n",
       "      <td>600</td>\n",
       "      <td>1</td>\n",
       "      <td>1</td>\n",
       "      <td>0</td>\n",
       "      <td>0</td>\n",
       "      <td>2</td>\n",
       "      <td>142107.34</td>\n",
       "      <td>366168.42</td>\n",
       "      <td>91391.77</td>\n",
       "      <td>45000</td>\n",
       "    </tr>\n",
       "  </tbody>\n",
       "</table>\n",
       "</div>"
      ],
      "text/plain": [
       "   Institute_brand_value  Course_Offered  Course_level  No_of_Instructors  \\\n",
       "0                      1               1             2                  2   \n",
       "1                      0               2             2                  4   \n",
       "2                      2               0             0                  2   \n",
       "3                      2               4             1                  2   \n",
       "4                      1               0             0                  2   \n",
       "\n",
       "   Total_Course_Hours  Mode_of_Course  Webportal_LifetimeAccess  \\\n",
       "0                 400               0                         1   \n",
       "1                 300               1                         1   \n",
       "2                 600               1                         0   \n",
       "3                  90               0                         0   \n",
       "4                 600               1                         1   \n",
       "\n",
       "   Certification_Exam  Placement_Offered  Level  R&D_Spend  Marketing_Spend  \\\n",
       "0                   0                  1      1  165349.20        471784.10   \n",
       "1                   2                  0      1  162597.70        443898.53   \n",
       "2                   1                  1      1  153441.51        407934.54   \n",
       "3                   1                  0      2  144372.41        383199.62   \n",
       "4                   0                  0      2  142107.34        366168.42   \n",
       "\n",
       "   Administration  Price  \n",
       "0       136897.80  35000  \n",
       "1       151377.59  70000  \n",
       "2       101145.55  45000  \n",
       "3       118671.85  25000  \n",
       "4        91391.77  45000  "
      ]
     },
     "execution_count": 11,
     "metadata": {},
     "output_type": "execute_result"
    }
   ],
   "source": [
    "df.head()"
   ]
  },
  {
   "cell_type": "code",
   "execution_count": 12,
   "id": "ed3d3947",
   "metadata": {},
   "outputs": [],
   "source": [
    "#Input Output split\n",
    "y = df.iloc[:,13]\n",
    "x = df.iloc[:,df.columns!='Price']"
   ]
  },
  {
   "cell_type": "code",
   "execution_count": null,
   "id": "2f7c5604",
   "metadata": {},
   "outputs": [],
   "source": []
  },
  {
   "cell_type": "code",
   "execution_count": null,
   "id": "9c8e022a",
   "metadata": {},
   "outputs": [],
   "source": [
    "scaler = StandardScaler()"
   ]
  },
  {
   "cell_type": "code",
   "execution_count": null,
   "id": "4503bd9d",
   "metadata": {},
   "outputs": [],
   "source": [
    "x_scaled = scaler.fit_transform(x)"
   ]
  },
  {
   "cell_type": "code",
   "execution_count": 13,
   "id": "1f1e385c",
   "metadata": {},
   "outputs": [],
   "source": [
    "#Calculation of the VIF SCORE\n",
    "def vif_score(x):\n",
    "    scaler = StandardScaler()\n",
    "    arr = scaler.fit_transform(x)\n",
    "    return pd.DataFrame([[x.columns[i],variance_inflation_factor(arr,i)] for i in range(arr.shape[1])],columns = [\"Feature\",\"VIF_SCORE\"])                     \n",
    "    "
   ]
  },
  {
   "cell_type": "code",
   "execution_count": 14,
   "id": "7dbe2562",
   "metadata": {},
   "outputs": [
    {
     "data": {
      "text/html": [
       "<div>\n",
       "<style scoped>\n",
       "    .dataframe tbody tr th:only-of-type {\n",
       "        vertical-align: middle;\n",
       "    }\n",
       "\n",
       "    .dataframe tbody tr th {\n",
       "        vertical-align: top;\n",
       "    }\n",
       "\n",
       "    .dataframe thead th {\n",
       "        text-align: right;\n",
       "    }\n",
       "</style>\n",
       "<table border=\"1\" class=\"dataframe\">\n",
       "  <thead>\n",
       "    <tr style=\"text-align: right;\">\n",
       "      <th></th>\n",
       "      <th>Feature</th>\n",
       "      <th>VIF_SCORE</th>\n",
       "    </tr>\n",
       "  </thead>\n",
       "  <tbody>\n",
       "    <tr>\n",
       "      <th>0</th>\n",
       "      <td>Institute_brand_value</td>\n",
       "      <td>8.274821</td>\n",
       "    </tr>\n",
       "    <tr>\n",
       "      <th>1</th>\n",
       "      <td>Course_Offered</td>\n",
       "      <td>7.760367</td>\n",
       "    </tr>\n",
       "    <tr>\n",
       "      <th>2</th>\n",
       "      <td>Course_level</td>\n",
       "      <td>1.122484</td>\n",
       "    </tr>\n",
       "    <tr>\n",
       "      <th>3</th>\n",
       "      <td>No_of_Instructors</td>\n",
       "      <td>25.682206</td>\n",
       "    </tr>\n",
       "    <tr>\n",
       "      <th>4</th>\n",
       "      <td>Total_Course_Hours</td>\n",
       "      <td>8.030456</td>\n",
       "    </tr>\n",
       "    <tr>\n",
       "      <th>5</th>\n",
       "      <td>Mode_of_Course</td>\n",
       "      <td>1.087775</td>\n",
       "    </tr>\n",
       "    <tr>\n",
       "      <th>6</th>\n",
       "      <td>Webportal_LifetimeAccess</td>\n",
       "      <td>2.118195</td>\n",
       "    </tr>\n",
       "    <tr>\n",
       "      <th>7</th>\n",
       "      <td>Certification_Exam</td>\n",
       "      <td>12.762290</td>\n",
       "    </tr>\n",
       "    <tr>\n",
       "      <th>8</th>\n",
       "      <td>Placement_Offered</td>\n",
       "      <td>1.102132</td>\n",
       "    </tr>\n",
       "    <tr>\n",
       "      <th>9</th>\n",
       "      <td>Level</td>\n",
       "      <td>1.054709</td>\n",
       "    </tr>\n",
       "    <tr>\n",
       "      <th>10</th>\n",
       "      <td>R&amp;D_Spend</td>\n",
       "      <td>1.300634</td>\n",
       "    </tr>\n",
       "    <tr>\n",
       "      <th>11</th>\n",
       "      <td>Marketing_Spend</td>\n",
       "      <td>1.160594</td>\n",
       "    </tr>\n",
       "    <tr>\n",
       "      <th>12</th>\n",
       "      <td>Administration</td>\n",
       "      <td>1.169300</td>\n",
       "    </tr>\n",
       "  </tbody>\n",
       "</table>\n",
       "</div>"
      ],
      "text/plain": [
       "                     Feature  VIF_SCORE\n",
       "0      Institute_brand_value   8.274821\n",
       "1             Course_Offered   7.760367\n",
       "2               Course_level   1.122484\n",
       "3          No_of_Instructors  25.682206\n",
       "4         Total_Course_Hours   8.030456\n",
       "5             Mode_of_Course   1.087775\n",
       "6   Webportal_LifetimeAccess   2.118195\n",
       "7         Certification_Exam  12.762290\n",
       "8          Placement_Offered   1.102132\n",
       "9                      Level   1.054709\n",
       "10                 R&D_Spend   1.300634\n",
       "11           Marketing_Spend   1.160594\n",
       "12            Administration   1.169300"
      ]
     },
     "execution_count": 14,
     "metadata": {},
     "output_type": "execute_result"
    }
   ],
   "source": [
    "vif_score(x)"
   ]
  },
  {
   "cell_type": "code",
   "execution_count": null,
   "id": "4ef9077f",
   "metadata": {},
   "outputs": [],
   "source": [
    "#Since the VIF score is inf for some features, this indicates perfect co-relation hence removing them "
   ]
  },
  {
   "cell_type": "code",
   "execution_count": 15,
   "id": "218abb52",
   "metadata": {
    "scrolled": true
   },
   "outputs": [
    {
     "name": "stderr",
     "output_type": "stream",
     "text": [
      "C:\\Users\\Hp\\anaconda3\\lib\\site-packages\\pandas\\core\\frame.py:4308: SettingWithCopyWarning: \n",
      "A value is trying to be set on a copy of a slice from a DataFrame\n",
      "\n",
      "See the caveats in the documentation: https://pandas.pydata.org/pandas-docs/stable/user_guide/indexing.html#returning-a-view-versus-a-copy\n",
      "  return super().drop(\n"
     ]
    }
   ],
   "source": [
    "#Dropping un-necessary columns\n",
    "x.drop(['No_of_Instructors'],axis=1, inplace=True)"
   ]
  },
  {
   "cell_type": "code",
   "execution_count": null,
   "id": "0a9e6c3c",
   "metadata": {
    "scrolled": false
   },
   "outputs": [],
   "source": [
    "x"
   ]
  },
  {
   "cell_type": "code",
   "execution_count": 16,
   "id": "2b79adc8",
   "metadata": {},
   "outputs": [],
   "source": [
    "from sklearn.preprocessing import MinMaxScaler"
   ]
  },
  {
   "cell_type": "code",
   "execution_count": null,
   "id": "48d12494",
   "metadata": {},
   "outputs": [],
   "source": [
    "norm_func = MinMaxScaler()"
   ]
  },
  {
   "cell_type": "code",
   "execution_count": null,
   "id": "a989dfe7",
   "metadata": {},
   "outputs": [],
   "source": [
    "x = norm_func.fit_transform(x)\n",
    "x"
   ]
  },
  {
   "cell_type": "code",
   "execution_count": null,
   "id": "dd841a05",
   "metadata": {},
   "outputs": [],
   "source": [
    "x = pd.DataFrame(x)"
   ]
  },
  {
   "cell_type": "code",
   "execution_count": 17,
   "id": "fb9f1a2a",
   "metadata": {},
   "outputs": [],
   "source": [
    "#Input output split\n",
    "from sklearn.model_selection import train_test_split\n",
    "x_train,x_test,y_train,y_test = train_test_split(x,y,test_size = 0.2)"
   ]
  },
  {
   "cell_type": "code",
   "execution_count": null,
   "id": "ee4d0f2f",
   "metadata": {},
   "outputs": [],
   "source": [
    "#Feature selection based on mutual info regresssion"
   ]
  },
  {
   "cell_type": "code",
   "execution_count": 18,
   "id": "acfb96e2",
   "metadata": {},
   "outputs": [],
   "source": [
    "from sklearn.feature_selection import mutual_info_regression"
   ]
  },
  {
   "cell_type": "markdown",
   "id": "20c6f09b",
   "metadata": {},
   "source": [
    "mutual_info = mutual_info_regression(x_train,y_train)"
   ]
  },
  {
   "cell_type": "code",
   "execution_count": 19,
   "id": "d56a37da",
   "metadata": {},
   "outputs": [],
   "source": [
    "mutual_info = mutual_info_regression(x_train,y_train)"
   ]
  },
  {
   "cell_type": "code",
   "execution_count": null,
   "id": "4724d2cd",
   "metadata": {},
   "outputs": [],
   "source": [
    "mutual_infoarray([0.53770794, 1.58685484, 0.92763472, 1.55269277, 0.        ,\n",
    "       0.05799415, 0.16444054, 0.04322748, 0.        , 0.        ,\n",
    "       0.        , 0.        ])"
   ]
  },
  {
   "cell_type": "code",
   "execution_count": 20,
   "id": "caba1117",
   "metadata": {},
   "outputs": [
    {
     "data": {
      "text/plain": [
       "Total_Course_Hours          1.526070\n",
       "Course_Offered              1.475830\n",
       "Course_level                0.904320\n",
       "Institute_brand_value       0.563182\n",
       "Certification_Exam          0.241379\n",
       "Webportal_LifetimeAccess    0.092273\n",
       "Marketing_Spend             0.063388\n",
       "Administration              0.003008\n",
       "Mode_of_Course              0.000000\n",
       "Placement_Offered           0.000000\n",
       "Level                       0.000000\n",
       "R&D_Spend                   0.000000\n",
       "dtype: float64"
      ]
     },
     "execution_count": 20,
     "metadata": {},
     "output_type": "execute_result"
    }
   ],
   "source": [
    "mutual_info = pd.Series(mutual_info)\n",
    "mutual_info.index = x_train.columns\n",
    "mutual_info.sort_values(ascending=False)"
   ]
  },
  {
   "cell_type": "code",
   "execution_count": 21,
   "id": "a458f92f",
   "metadata": {},
   "outputs": [
    {
     "data": {
      "text/plain": [
       "<AxesSubplot:>"
      ]
     },
     "execution_count": 21,
     "metadata": {},
     "output_type": "execute_result"
    },
    {
     "data": {
      "image/png": "[encoded data removed]",
      "text/plain": [
       "<Figure size 1080x360 with 1 Axes>"
      ]
     },
     "metadata": {
      "needs_background": "light"
     },
     "output_type": "display_data"
    }
   ],
   "source": [
    "mutual_info.sort_values(ascending=False).plot.bar(figsize=(15,5))"
   ]
  },
  {
   "cell_type": "code",
   "execution_count": 22,
   "id": "02f381dd",
   "metadata": {},
   "outputs": [],
   "source": [
    "from sklearn.feature_selection import SelectPercentile"
   ]
  },
  {
   "cell_type": "code",
   "execution_count": 23,
   "id": "262b33bd",
   "metadata": {},
   "outputs": [],
   "source": [
    "select_top_columns = SelectPercentile(mutual_info_regression,percentile=70)"
   ]
  },
  {
   "cell_type": "code",
   "execution_count": 24,
   "id": "c16fcf5f",
   "metadata": {},
   "outputs": [
    {
     "data": {
      "text/html": [
       "<style>#sk-container-id-1 {color: black;background-color: white;}#sk-container-id-1 pre{padding: 0;}#sk-container-id-1 div.sk-toggleable {background-color: white;}#sk-container-id-1 label.sk-toggleable__label {cursor: pointer;display: block;width: 100%;margin-bottom: 0;padding: 0.3em;box-sizing: border-box;text-align: center;}#sk-container-id-1 label.sk-toggleable__label-arrow:before {content: \"▸\";float: left;margin-right: 0.25em;color: #696969;}#sk-container-id-1 label.sk-toggleable__label-arrow:hover:before {color: black;}#sk-container-id-1 div.sk-estimator:hover label.sk-toggleable__label-arrow:before {color: black;}#sk-container-id-1 div.sk-toggleable__content {max-height: 0;max-width: 0;overflow: hidden;text-align: left;background-color: #f0f8ff;}#sk-container-id-1 div.sk-toggleable__content pre {margin: 0.2em;color: black;border-radius: 0.25em;background-color: #f0f8ff;}#sk-container-id-1 input.sk-toggleable__control:checked~div.sk-toggleable__content {max-height: 200px;max-width: 100%;overflow: auto;}#sk-container-id-1 input.sk-toggleable__control:checked~label.sk-toggleable__label-arrow:before {content: \"▾\";}#sk-container-id-1 div.sk-estimator input.sk-toggleable__control:checked~label.sk-toggleable__label {background-color: #d4ebff;}#sk-container-id-1 div.sk-label input.sk-toggleable__control:checked~label.sk-toggleable__label {background-color: #d4ebff;}#sk-container-id-1 input.sk-hidden--visually {border: 0;clip: rect(1px 1px 1px 1px);clip: rect(1px, 1px, 1px, 1px);height: 1px;margin: -1px;overflow: hidden;padding: 0;position: absolute;width: 1px;}#sk-container-id-1 div.sk-estimator {font-family: monospace;background-color: #f0f8ff;border: 1px dotted black;border-radius: 0.25em;box-sizing: border-box;margin-bottom: 0.5em;}#sk-container-id-1 div.sk-estimator:hover {background-color: #d4ebff;}#sk-container-id-1 div.sk-parallel-item::after {content: \"\";width: 100%;border-bottom: 1px solid gray;flex-grow: 1;}#sk-container-id-1 div.sk-label:hover label.sk-toggleable__label {background-color: #d4ebff;}#sk-container-id-1 div.sk-serial::before {content: \"\";position: absolute;border-left: 1px solid gray;box-sizing: border-box;top: 0;bottom: 0;left: 50%;z-index: 0;}#sk-container-id-1 div.sk-serial {display: flex;flex-direction: column;align-items: center;background-color: white;padding-right: 0.2em;padding-left: 0.2em;position: relative;}#sk-container-id-1 div.sk-item {position: relative;z-index: 1;}#sk-container-id-1 div.sk-parallel {display: flex;align-items: stretch;justify-content: center;background-color: white;position: relative;}#sk-container-id-1 div.sk-item::before, #sk-container-id-1 div.sk-parallel-item::before {content: \"\";position: absolute;border-left: 1px solid gray;box-sizing: border-box;top: 0;bottom: 0;left: 50%;z-index: -1;}#sk-container-id-1 div.sk-parallel-item {display: flex;flex-direction: column;z-index: 1;position: relative;background-color: white;}#sk-container-id-1 div.sk-parallel-item:first-child::after {align-self: flex-end;width: 50%;}#sk-container-id-1 div.sk-parallel-item:last-child::after {align-self: flex-start;width: 50%;}#sk-container-id-1 div.sk-parallel-item:only-child::after {width: 0;}#sk-container-id-1 div.sk-dashed-wrapped {border: 1px dashed gray;margin: 0 0.4em 0.5em 0.4em;box-sizing: border-box;padding-bottom: 0.4em;background-color: white;}#sk-container-id-1 div.sk-label label {font-family: monospace;font-weight: bold;display: inline-block;line-height: 1.2em;}#sk-container-id-1 div.sk-label-container {text-align: center;}#sk-container-id-1 div.sk-container {/* jupyter's `normalize.less` sets `[hidden] { display: none; }` but bootstrap.min.css set `[hidden] { display: none !important; }` so we also need the `!important` here to be able to override the default hidden behavior on the sphinx rendered scikit-learn.org. See: https://github.com/scikit-learn/scikit-learn/issues/21755 */display: inline-block !important;position: relative;}#sk-container-id-1 div.sk-text-repr-fallback {display: none;}</style><div id=\"sk-container-id-1\" class=\"sk-top-container\"><div class=\"sk-text-repr-fallback\"><pre>SelectPercentile(percentile=70,\n",
       "                 score_func=&lt;function mutual_info_regression at 0x000001DE93C23EE0&gt;)</pre><b>In a Jupyter environment, please rerun this cell to show the HTML representation or trust the notebook. <br />On GitHub, the HTML representation is unable to render, please try loading this page with nbviewer.org.</b></div><div class=\"sk-container\" hidden><div class=\"sk-item\"><div class=\"sk-estimator sk-toggleable\"><input class=\"sk-toggleable__control sk-hidden--visually\" id=\"sk-estimator-id-1\" type=\"checkbox\" checked><label for=\"sk-estimator-id-1\" class=\"sk-toggleable__label sk-toggleable__label-arrow\">SelectPercentile</label><div class=\"sk-toggleable__content\"><pre>SelectPercentile(percentile=70,\n",
       "                 score_func=&lt;function mutual_info_regression at 0x000001DE93C23EE0&gt;)</pre></div></div></div></div></div>"
      ],
      "text/plain": [
       "SelectPercentile(percentile=70,\n",
       "                 score_func=<function mutual_info_regression at 0x000001DE93C23EE0>)"
      ]
     },
     "execution_count": 24,
     "metadata": {},
     "output_type": "execute_result"
    }
   ],
   "source": [
    "select_top_columns.fit(x_train,y_train)"
   ]
  },
  {
   "cell_type": "code",
   "execution_count": 25,
   "id": "1d81e360",
   "metadata": {},
   "outputs": [
    {
     "data": {
      "text/plain": [
       "Index(['Institute_brand_value', 'Course_Offered', 'Course_level',\n",
       "       'Total_Course_Hours', 'Mode_of_Course', 'Webportal_LifetimeAccess',\n",
       "       'Certification_Exam', 'Marketing_Spend'],\n",
       "      dtype='object')"
      ]
     },
     "execution_count": 25,
     "metadata": {},
     "output_type": "execute_result"
    }
   ],
   "source": [
    "x_train.columns[select_top_columns.get_support()]"
   ]
  },
  {
   "cell_type": "code",
   "execution_count": 26,
   "id": "12fa3f22",
   "metadata": {
    "scrolled": true
   },
   "outputs": [
    {
     "name": "stderr",
     "output_type": "stream",
     "text": [
      "C:\\Users\\Hp\\anaconda3\\lib\\site-packages\\pandas\\core\\frame.py:4308: SettingWithCopyWarning: \n",
      "A value is trying to be set on a copy of a slice from a DataFrame\n",
      "\n",
      "See the caveats in the documentation: https://pandas.pydata.org/pandas-docs/stable/user_guide/indexing.html#returning-a-view-versus-a-copy\n",
      "  return super().drop(\n"
     ]
    }
   ],
   "source": [
    "x.drop(['Mode_of_Course','Level','R&D_Spend','Marketing_Spend','Administration'],axis=1, inplace=True)"
   ]
  },
  {
   "cell_type": "code",
   "execution_count": 27,
   "id": "94f3d5af",
   "metadata": {
    "scrolled": true
   },
   "outputs": [
    {
     "data": {
      "text/html": [
       "<div>\n",
       "<style scoped>\n",
       "    .dataframe tbody tr th:only-of-type {\n",
       "        vertical-align: middle;\n",
       "    }\n",
       "\n",
       "    .dataframe tbody tr th {\n",
       "        vertical-align: top;\n",
       "    }\n",
       "\n",
       "    .dataframe thead th {\n",
       "        text-align: right;\n",
       "    }\n",
       "</style>\n",
       "<table border=\"1\" class=\"dataframe\">\n",
       "  <thead>\n",
       "    <tr style=\"text-align: right;\">\n",
       "      <th></th>\n",
       "      <th>Institute_brand_value</th>\n",
       "      <th>Course_Offered</th>\n",
       "      <th>Course_level</th>\n",
       "      <th>Total_Course_Hours</th>\n",
       "      <th>Webportal_LifetimeAccess</th>\n",
       "      <th>Certification_Exam</th>\n",
       "      <th>Placement_Offered</th>\n",
       "    </tr>\n",
       "  </thead>\n",
       "  <tbody>\n",
       "    <tr>\n",
       "      <th>0</th>\n",
       "      <td>1</td>\n",
       "      <td>1</td>\n",
       "      <td>2</td>\n",
       "      <td>400</td>\n",
       "      <td>1</td>\n",
       "      <td>0</td>\n",
       "      <td>1</td>\n",
       "    </tr>\n",
       "    <tr>\n",
       "      <th>1</th>\n",
       "      <td>0</td>\n",
       "      <td>2</td>\n",
       "      <td>2</td>\n",
       "      <td>300</td>\n",
       "      <td>1</td>\n",
       "      <td>2</td>\n",
       "      <td>0</td>\n",
       "    </tr>\n",
       "    <tr>\n",
       "      <th>2</th>\n",
       "      <td>2</td>\n",
       "      <td>0</td>\n",
       "      <td>0</td>\n",
       "      <td>600</td>\n",
       "      <td>0</td>\n",
       "      <td>1</td>\n",
       "      <td>1</td>\n",
       "    </tr>\n",
       "    <tr>\n",
       "      <th>3</th>\n",
       "      <td>2</td>\n",
       "      <td>4</td>\n",
       "      <td>1</td>\n",
       "      <td>90</td>\n",
       "      <td>0</td>\n",
       "      <td>1</td>\n",
       "      <td>0</td>\n",
       "    </tr>\n",
       "    <tr>\n",
       "      <th>4</th>\n",
       "      <td>1</td>\n",
       "      <td>0</td>\n",
       "      <td>0</td>\n",
       "      <td>600</td>\n",
       "      <td>1</td>\n",
       "      <td>0</td>\n",
       "      <td>0</td>\n",
       "    </tr>\n",
       "    <tr>\n",
       "      <th>...</th>\n",
       "      <td>...</td>\n",
       "      <td>...</td>\n",
       "      <td>...</td>\n",
       "      <td>...</td>\n",
       "      <td>...</td>\n",
       "      <td>...</td>\n",
       "      <td>...</td>\n",
       "    </tr>\n",
       "    <tr>\n",
       "      <th>145</th>\n",
       "      <td>2</td>\n",
       "      <td>3</td>\n",
       "      <td>2</td>\n",
       "      <td>350</td>\n",
       "      <td>1</td>\n",
       "      <td>2</td>\n",
       "      <td>0</td>\n",
       "    </tr>\n",
       "    <tr>\n",
       "      <th>146</th>\n",
       "      <td>1</td>\n",
       "      <td>4</td>\n",
       "      <td>1</td>\n",
       "      <td>150</td>\n",
       "      <td>1</td>\n",
       "      <td>0</td>\n",
       "      <td>0</td>\n",
       "    </tr>\n",
       "    <tr>\n",
       "      <th>147</th>\n",
       "      <td>0</td>\n",
       "      <td>1</td>\n",
       "      <td>2</td>\n",
       "      <td>400</td>\n",
       "      <td>1</td>\n",
       "      <td>2</td>\n",
       "      <td>0</td>\n",
       "    </tr>\n",
       "    <tr>\n",
       "      <th>148</th>\n",
       "      <td>2</td>\n",
       "      <td>0</td>\n",
       "      <td>0</td>\n",
       "      <td>600</td>\n",
       "      <td>0</td>\n",
       "      <td>1</td>\n",
       "      <td>1</td>\n",
       "    </tr>\n",
       "    <tr>\n",
       "      <th>149</th>\n",
       "      <td>2</td>\n",
       "      <td>1</td>\n",
       "      <td>2</td>\n",
       "      <td>400</td>\n",
       "      <td>1</td>\n",
       "      <td>2</td>\n",
       "      <td>0</td>\n",
       "    </tr>\n",
       "  </tbody>\n",
       "</table>\n",
       "<p>150 rows × 7 columns</p>\n",
       "</div>"
      ],
      "text/plain": [
       "     Institute_brand_value  Course_Offered  Course_level  Total_Course_Hours  \\\n",
       "0                        1               1             2                 400   \n",
       "1                        0               2             2                 300   \n",
       "2                        2               0             0                 600   \n",
       "3                        2               4             1                  90   \n",
       "4                        1               0             0                 600   \n",
       "..                     ...             ...           ...                 ...   \n",
       "145                      2               3             2                 350   \n",
       "146                      1               4             1                 150   \n",
       "147                      0               1             2                 400   \n",
       "148                      2               0             0                 600   \n",
       "149                      2               1             2                 400   \n",
       "\n",
       "     Webportal_LifetimeAccess  Certification_Exam  Placement_Offered  \n",
       "0                           1                   0                  1  \n",
       "1                           1                   2                  0  \n",
       "2                           0                   1                  1  \n",
       "3                           0                   1                  0  \n",
       "4                           1                   0                  0  \n",
       "..                        ...                 ...                ...  \n",
       "145                         1                   2                  0  \n",
       "146                         1                   0                  0  \n",
       "147                         1                   2                  0  \n",
       "148                         0                   1                  1  \n",
       "149                         1                   2                  0  \n",
       "\n",
       "[150 rows x 7 columns]"
      ]
     },
     "execution_count": 27,
     "metadata": {},
     "output_type": "execute_result"
    }
   ],
   "source": [
    "x"
   ]
  },
  {
   "cell_type": "code",
   "execution_count": null,
   "id": "22a1841c",
   "metadata": {},
   "outputs": [],
   "source": [
    "df['Institute_brand_value'].value_counts()"
   ]
  },
  {
   "cell_type": "code",
   "execution_count": null,
   "id": "c4cb2a51",
   "metadata": {},
   "outputs": [],
   "source": [
    "df['Course_Offered'].value_counts()"
   ]
  },
  {
   "cell_type": "code",
   "execution_count": null,
   "id": "f4396303",
   "metadata": {},
   "outputs": [],
   "source": [
    "df['Webportal_LifetimeAccess'].value_counts()"
   ]
  },
  {
   "cell_type": "code",
   "execution_count": null,
   "id": "7ee34be8",
   "metadata": {},
   "outputs": [],
   "source": [
    "df['Certification_Exam'].value_counts()"
   ]
  },
  {
   "cell_type": "code",
   "execution_count": null,
   "id": "58798f87",
   "metadata": {},
   "outputs": [],
   "source": [
    "df['Placement_Offered'].value_counts()"
   ]
  },
  {
   "cell_type": "code",
   "execution_count": null,
   "id": "c2bda5e9",
   "metadata": {},
   "outputs": [],
   "source": [
    "df['Course_level'].value_counts()"
   ]
  },
  {
   "cell_type": "code",
   "execution_count": 28,
   "id": "326f714f",
   "metadata": {},
   "outputs": [],
   "source": [
    "from sklearn.model_selection import train_test_split\n",
    "x_train,x_test,y_train,y_test = train_test_split(x,y,test_size = 0.2)"
   ]
  },
  {
   "cell_type": "code",
   "execution_count": 29,
   "id": "1ccc9cdc",
   "metadata": {},
   "outputs": [],
   "source": [
    "from sklearn.tree import DecisionTreeRegressor\n",
    "DT = DecisionTreeRegressor()"
   ]
  },
  {
   "cell_type": "code",
   "execution_count": 30,
   "id": "870f6d7d",
   "metadata": {},
   "outputs": [],
   "source": [
    "dt_model = DT.fit(x_train,y_train)"
   ]
  },
  {
   "cell_type": "code",
   "execution_count": 31,
   "id": "3c8af8d0",
   "metadata": {},
   "outputs": [],
   "source": [
    "dt_ypred = dt_model.predict(x_test)"
   ]
  },
  {
   "cell_type": "code",
   "execution_count": 32,
   "id": "49bb4ac8",
   "metadata": {},
   "outputs": [],
   "source": [
    "from sklearn.metrics import r2_score\n",
    "from sklearn.metrics import mean_squared_error"
   ]
  },
  {
   "cell_type": "code",
   "execution_count": 33,
   "id": "7035da6a",
   "metadata": {},
   "outputs": [
    {
     "name": "stdout",
     "output_type": "stream",
     "text": [
      "r2 socre is 1.0\n"
     ]
    }
   ],
   "source": [
    "score=r2_score(y_test,dt_ypred)\n",
    "print('r2 socre is',score)"
   ]
  },
  {
   "cell_type": "code",
   "execution_count": null,
   "id": "b64c69eb",
   "metadata": {},
   "outputs": [],
   "source": []
  },
  {
   "cell_type": "code",
   "execution_count": 34,
   "id": "26cfd8d1",
   "metadata": {},
   "outputs": [],
   "source": [
    "from sklearn.linear_model import LinearRegression\n",
    "lr = LinearRegression()"
   ]
  },
  {
   "cell_type": "code",
   "execution_count": 35,
   "id": "f644c7a6",
   "metadata": {},
   "outputs": [],
   "source": [
    "model = lr.fit(x_train,y_train)"
   ]
  },
  {
   "cell_type": "code",
   "execution_count": 36,
   "id": "2d8c5539",
   "metadata": {},
   "outputs": [],
   "source": [
    "y_pred = model.predict(x_test)"
   ]
  },
  {
   "cell_type": "code",
   "execution_count": 37,
   "id": "073bade9",
   "metadata": {},
   "outputs": [],
   "source": [
    "from sklearn.metrics import r2_score\n",
    "from sklearn.metrics import mean_squared_error"
   ]
  },
  {
   "cell_type": "code",
   "execution_count": 38,
   "id": "2a249f10",
   "metadata": {},
   "outputs": [
    {
     "name": "stdout",
     "output_type": "stream",
     "text": [
      "r2 socre is 0.9597453747432333\n"
     ]
    }
   ],
   "source": [
    "score=r2_score(y_test,y_pred)\n",
    "print('r2 socre is',score)"
   ]
  },
  {
   "cell_type": "code",
   "execution_count": 39,
   "id": "fa8ec820",
   "metadata": {},
   "outputs": [
    {
     "name": "stdout",
     "output_type": "stream",
     "text": [
      "mse: 9764922.267425073\n"
     ]
    }
   ],
   "source": [
    "print('mse:',mean_squared_error(y_test,y_pred))"
   ]
  },
  {
   "cell_type": "code",
   "execution_count": 40,
   "id": "d0a17d38",
   "metadata": {},
   "outputs": [
    {
     "name": "stdout",
     "output_type": "stream",
     "text": [
      "rmse: 3124.8875607651985\n"
     ]
    }
   ],
   "source": [
    "print('rmse:',np.sqrt(mean_squared_error(y_test,y_pred)))"
   ]
  },
  {
   "cell_type": "code",
   "execution_count": 41,
   "id": "2929e262",
   "metadata": {},
   "outputs": [],
   "source": [
    "from sklearn.ensemble import RandomForestRegressor"
   ]
  },
  {
   "cell_type": "code",
   "execution_count": 42,
   "id": "8b5fc10b",
   "metadata": {},
   "outputs": [
    {
     "data": {
      "text/html": [
       "<div>\n",
       "<style scoped>\n",
       "    .dataframe tbody tr th:only-of-type {\n",
       "        vertical-align: middle;\n",
       "    }\n",
       "\n",
       "    .dataframe tbody tr th {\n",
       "        vertical-align: top;\n",
       "    }\n",
       "\n",
       "    .dataframe thead th {\n",
       "        text-align: right;\n",
       "    }\n",
       "</style>\n",
       "<table border=\"1\" class=\"dataframe\">\n",
       "  <thead>\n",
       "    <tr style=\"text-align: right;\">\n",
       "      <th></th>\n",
       "      <th>Institute_brand_value</th>\n",
       "      <th>Course_Offered</th>\n",
       "      <th>Course_level</th>\n",
       "      <th>Total_Course_Hours</th>\n",
       "      <th>Webportal_LifetimeAccess</th>\n",
       "      <th>Certification_Exam</th>\n",
       "      <th>Placement_Offered</th>\n",
       "    </tr>\n",
       "  </thead>\n",
       "  <tbody>\n",
       "    <tr>\n",
       "      <th>15</th>\n",
       "      <td>2</td>\n",
       "      <td>0</td>\n",
       "      <td>0</td>\n",
       "      <td>600</td>\n",
       "      <td>0</td>\n",
       "      <td>1</td>\n",
       "      <td>1</td>\n",
       "    </tr>\n",
       "    <tr>\n",
       "      <th>39</th>\n",
       "      <td>0</td>\n",
       "      <td>3</td>\n",
       "      <td>2</td>\n",
       "      <td>350</td>\n",
       "      <td>1</td>\n",
       "      <td>2</td>\n",
       "      <td>0</td>\n",
       "    </tr>\n",
       "    <tr>\n",
       "      <th>106</th>\n",
       "      <td>1</td>\n",
       "      <td>2</td>\n",
       "      <td>2</td>\n",
       "      <td>300</td>\n",
       "      <td>1</td>\n",
       "      <td>0</td>\n",
       "      <td>0</td>\n",
       "    </tr>\n",
       "    <tr>\n",
       "      <th>31</th>\n",
       "      <td>2</td>\n",
       "      <td>4</td>\n",
       "      <td>1</td>\n",
       "      <td>90</td>\n",
       "      <td>0</td>\n",
       "      <td>1</td>\n",
       "      <td>0</td>\n",
       "    </tr>\n",
       "    <tr>\n",
       "      <th>132</th>\n",
       "      <td>0</td>\n",
       "      <td>4</td>\n",
       "      <td>1</td>\n",
       "      <td>60</td>\n",
       "      <td>1</td>\n",
       "      <td>2</td>\n",
       "      <td>1</td>\n",
       "    </tr>\n",
       "    <tr>\n",
       "      <th>...</th>\n",
       "      <td>...</td>\n",
       "      <td>...</td>\n",
       "      <td>...</td>\n",
       "      <td>...</td>\n",
       "      <td>...</td>\n",
       "      <td>...</td>\n",
       "      <td>...</td>\n",
       "    </tr>\n",
       "    <tr>\n",
       "      <th>93</th>\n",
       "      <td>2</td>\n",
       "      <td>1</td>\n",
       "      <td>2</td>\n",
       "      <td>400</td>\n",
       "      <td>0</td>\n",
       "      <td>1</td>\n",
       "      <td>1</td>\n",
       "    </tr>\n",
       "    <tr>\n",
       "      <th>82</th>\n",
       "      <td>0</td>\n",
       "      <td>3</td>\n",
       "      <td>2</td>\n",
       "      <td>350</td>\n",
       "      <td>1</td>\n",
       "      <td>2</td>\n",
       "      <td>1</td>\n",
       "    </tr>\n",
       "    <tr>\n",
       "      <th>69</th>\n",
       "      <td>1</td>\n",
       "      <td>4</td>\n",
       "      <td>1</td>\n",
       "      <td>60</td>\n",
       "      <td>1</td>\n",
       "      <td>0</td>\n",
       "      <td>1</td>\n",
       "    </tr>\n",
       "    <tr>\n",
       "      <th>55</th>\n",
       "      <td>2</td>\n",
       "      <td>4</td>\n",
       "      <td>1</td>\n",
       "      <td>60</td>\n",
       "      <td>0</td>\n",
       "      <td>1</td>\n",
       "      <td>1</td>\n",
       "    </tr>\n",
       "    <tr>\n",
       "      <th>140</th>\n",
       "      <td>2</td>\n",
       "      <td>4</td>\n",
       "      <td>1</td>\n",
       "      <td>120</td>\n",
       "      <td>1</td>\n",
       "      <td>2</td>\n",
       "      <td>0</td>\n",
       "    </tr>\n",
       "  </tbody>\n",
       "</table>\n",
       "<p>120 rows × 7 columns</p>\n",
       "</div>"
      ],
      "text/plain": [
       "     Institute_brand_value  Course_Offered  Course_level  Total_Course_Hours  \\\n",
       "15                       2               0             0                 600   \n",
       "39                       0               3             2                 350   \n",
       "106                      1               2             2                 300   \n",
       "31                       2               4             1                  90   \n",
       "132                      0               4             1                  60   \n",
       "..                     ...             ...           ...                 ...   \n",
       "93                       2               1             2                 400   \n",
       "82                       0               3             2                 350   \n",
       "69                       1               4             1                  60   \n",
       "55                       2               4             1                  60   \n",
       "140                      2               4             1                 120   \n",
       "\n",
       "     Webportal_LifetimeAccess  Certification_Exam  Placement_Offered  \n",
       "15                          0                   1                  1  \n",
       "39                          1                   2                  0  \n",
       "106                         1                   0                  0  \n",
       "31                          0                   1                  0  \n",
       "132                         1                   2                  1  \n",
       "..                        ...                 ...                ...  \n",
       "93                          0                   1                  1  \n",
       "82                          1                   2                  1  \n",
       "69                          1                   0                  1  \n",
       "55                          0                   1                  1  \n",
       "140                         1                   2                  0  \n",
       "\n",
       "[120 rows x 7 columns]"
      ]
     },
     "execution_count": 42,
     "metadata": {},
     "output_type": "execute_result"
    }
   ],
   "source": [
    "x_train"
   ]
  },
  {
   "cell_type": "code",
   "execution_count": 43,
   "id": "a3904a80",
   "metadata": {},
   "outputs": [],
   "source": [
    "rf = RandomForestRegressor()"
   ]
  },
  {
   "cell_type": "code",
   "execution_count": 44,
   "id": "40e5545d",
   "metadata": {},
   "outputs": [],
   "source": [
    "rf_model = rf.fit(x_train,y_train)"
   ]
  },
  {
   "cell_type": "code",
   "execution_count": 54,
   "id": "1aba78ba",
   "metadata": {},
   "outputs": [
    {
     "data": {
      "text/html": [
       "<div>\n",
       "<style scoped>\n",
       "    .dataframe tbody tr th:only-of-type {\n",
       "        vertical-align: middle;\n",
       "    }\n",
       "\n",
       "    .dataframe tbody tr th {\n",
       "        vertical-align: top;\n",
       "    }\n",
       "\n",
       "    .dataframe thead th {\n",
       "        text-align: right;\n",
       "    }\n",
       "</style>\n",
       "<table border=\"1\" class=\"dataframe\">\n",
       "  <thead>\n",
       "    <tr style=\"text-align: right;\">\n",
       "      <th></th>\n",
       "      <th>Institute_brand_value</th>\n",
       "      <th>Course_Offered</th>\n",
       "      <th>Course_level</th>\n",
       "      <th>Total_Course_Hours</th>\n",
       "      <th>Webportal_LifetimeAccess</th>\n",
       "      <th>Certification_Exam</th>\n",
       "      <th>Placement_Offered</th>\n",
       "    </tr>\n",
       "  </thead>\n",
       "  <tbody>\n",
       "    <tr>\n",
       "      <th>6</th>\n",
       "      <td>2</td>\n",
       "      <td>1</td>\n",
       "      <td>2</td>\n",
       "      <td>400</td>\n",
       "      <td>0</td>\n",
       "      <td>1</td>\n",
       "      <td>1</td>\n",
       "    </tr>\n",
       "    <tr>\n",
       "      <th>73</th>\n",
       "      <td>0</td>\n",
       "      <td>3</td>\n",
       "      <td>2</td>\n",
       "      <td>350</td>\n",
       "      <td>1</td>\n",
       "      <td>2</td>\n",
       "      <td>1</td>\n",
       "    </tr>\n",
       "    <tr>\n",
       "      <th>133</th>\n",
       "      <td>2</td>\n",
       "      <td>0</td>\n",
       "      <td>0</td>\n",
       "      <td>600</td>\n",
       "      <td>0</td>\n",
       "      <td>1</td>\n",
       "      <td>0</td>\n",
       "    </tr>\n",
       "    <tr>\n",
       "      <th>62</th>\n",
       "      <td>2</td>\n",
       "      <td>3</td>\n",
       "      <td>2</td>\n",
       "      <td>350</td>\n",
       "      <td>1</td>\n",
       "      <td>2</td>\n",
       "      <td>0</td>\n",
       "    </tr>\n",
       "    <tr>\n",
       "      <th>97</th>\n",
       "      <td>0</td>\n",
       "      <td>4</td>\n",
       "      <td>1</td>\n",
       "      <td>150</td>\n",
       "      <td>1</td>\n",
       "      <td>2</td>\n",
       "      <td>1</td>\n",
       "    </tr>\n",
       "    <tr>\n",
       "      <th>126</th>\n",
       "      <td>2</td>\n",
       "      <td>4</td>\n",
       "      <td>1</td>\n",
       "      <td>60</td>\n",
       "      <td>1</td>\n",
       "      <td>2</td>\n",
       "      <td>0</td>\n",
       "    </tr>\n",
       "    <tr>\n",
       "      <th>29</th>\n",
       "      <td>1</td>\n",
       "      <td>1</td>\n",
       "      <td>2</td>\n",
       "      <td>400</td>\n",
       "      <td>1</td>\n",
       "      <td>0</td>\n",
       "      <td>0</td>\n",
       "    </tr>\n",
       "    <tr>\n",
       "      <th>95</th>\n",
       "      <td>2</td>\n",
       "      <td>2</td>\n",
       "      <td>2</td>\n",
       "      <td>300</td>\n",
       "      <td>1</td>\n",
       "      <td>2</td>\n",
       "      <td>1</td>\n",
       "    </tr>\n",
       "    <tr>\n",
       "      <th>66</th>\n",
       "      <td>2</td>\n",
       "      <td>2</td>\n",
       "      <td>2</td>\n",
       "      <td>300</td>\n",
       "      <td>1</td>\n",
       "      <td>2</td>\n",
       "      <td>0</td>\n",
       "    </tr>\n",
       "    <tr>\n",
       "      <th>128</th>\n",
       "      <td>2</td>\n",
       "      <td>0</td>\n",
       "      <td>0</td>\n",
       "      <td>600</td>\n",
       "      <td>0</td>\n",
       "      <td>1</td>\n",
       "      <td>0</td>\n",
       "    </tr>\n",
       "    <tr>\n",
       "      <th>136</th>\n",
       "      <td>2</td>\n",
       "      <td>4</td>\n",
       "      <td>1</td>\n",
       "      <td>90</td>\n",
       "      <td>1</td>\n",
       "      <td>2</td>\n",
       "      <td>1</td>\n",
       "    </tr>\n",
       "    <tr>\n",
       "      <th>131</th>\n",
       "      <td>2</td>\n",
       "      <td>4</td>\n",
       "      <td>1</td>\n",
       "      <td>120</td>\n",
       "      <td>0</td>\n",
       "      <td>1</td>\n",
       "      <td>0</td>\n",
       "    </tr>\n",
       "    <tr>\n",
       "      <th>30</th>\n",
       "      <td>2</td>\n",
       "      <td>4</td>\n",
       "      <td>1</td>\n",
       "      <td>150</td>\n",
       "      <td>1</td>\n",
       "      <td>2</td>\n",
       "      <td>1</td>\n",
       "    </tr>\n",
       "    <tr>\n",
       "      <th>3</th>\n",
       "      <td>2</td>\n",
       "      <td>4</td>\n",
       "      <td>1</td>\n",
       "      <td>90</td>\n",
       "      <td>0</td>\n",
       "      <td>1</td>\n",
       "      <td>0</td>\n",
       "    </tr>\n",
       "    <tr>\n",
       "      <th>20</th>\n",
       "      <td>2</td>\n",
       "      <td>2</td>\n",
       "      <td>2</td>\n",
       "      <td>300</td>\n",
       "      <td>1</td>\n",
       "      <td>2</td>\n",
       "      <td>1</td>\n",
       "    </tr>\n",
       "    <tr>\n",
       "      <th>103</th>\n",
       "      <td>2</td>\n",
       "      <td>2</td>\n",
       "      <td>2</td>\n",
       "      <td>300</td>\n",
       "      <td>0</td>\n",
       "      <td>1</td>\n",
       "      <td>0</td>\n",
       "    </tr>\n",
       "    <tr>\n",
       "      <th>1</th>\n",
       "      <td>0</td>\n",
       "      <td>2</td>\n",
       "      <td>2</td>\n",
       "      <td>300</td>\n",
       "      <td>1</td>\n",
       "      <td>2</td>\n",
       "      <td>0</td>\n",
       "    </tr>\n",
       "    <tr>\n",
       "      <th>36</th>\n",
       "      <td>2</td>\n",
       "      <td>1</td>\n",
       "      <td>2</td>\n",
       "      <td>400</td>\n",
       "      <td>0</td>\n",
       "      <td>1</td>\n",
       "      <td>1</td>\n",
       "    </tr>\n",
       "    <tr>\n",
       "      <th>122</th>\n",
       "      <td>2</td>\n",
       "      <td>1</td>\n",
       "      <td>2</td>\n",
       "      <td>400</td>\n",
       "      <td>0</td>\n",
       "      <td>1</td>\n",
       "      <td>1</td>\n",
       "    </tr>\n",
       "    <tr>\n",
       "      <th>23</th>\n",
       "      <td>0</td>\n",
       "      <td>1</td>\n",
       "      <td>2</td>\n",
       "      <td>400</td>\n",
       "      <td>1</td>\n",
       "      <td>2</td>\n",
       "      <td>1</td>\n",
       "    </tr>\n",
       "    <tr>\n",
       "      <th>119</th>\n",
       "      <td>0</td>\n",
       "      <td>1</td>\n",
       "      <td>2</td>\n",
       "      <td>400</td>\n",
       "      <td>1</td>\n",
       "      <td>2</td>\n",
       "      <td>1</td>\n",
       "    </tr>\n",
       "    <tr>\n",
       "      <th>81</th>\n",
       "      <td>1</td>\n",
       "      <td>2</td>\n",
       "      <td>2</td>\n",
       "      <td>300</td>\n",
       "      <td>1</td>\n",
       "      <td>0</td>\n",
       "      <td>0</td>\n",
       "    </tr>\n",
       "    <tr>\n",
       "      <th>77</th>\n",
       "      <td>2</td>\n",
       "      <td>2</td>\n",
       "      <td>2</td>\n",
       "      <td>300</td>\n",
       "      <td>0</td>\n",
       "      <td>1</td>\n",
       "      <td>0</td>\n",
       "    </tr>\n",
       "    <tr>\n",
       "      <th>88</th>\n",
       "      <td>2</td>\n",
       "      <td>2</td>\n",
       "      <td>2</td>\n",
       "      <td>300</td>\n",
       "      <td>0</td>\n",
       "      <td>1</td>\n",
       "      <td>0</td>\n",
       "    </tr>\n",
       "    <tr>\n",
       "      <th>0</th>\n",
       "      <td>1</td>\n",
       "      <td>1</td>\n",
       "      <td>2</td>\n",
       "      <td>400</td>\n",
       "      <td>1</td>\n",
       "      <td>0</td>\n",
       "      <td>1</td>\n",
       "    </tr>\n",
       "    <tr>\n",
       "      <th>114</th>\n",
       "      <td>0</td>\n",
       "      <td>1</td>\n",
       "      <td>2</td>\n",
       "      <td>400</td>\n",
       "      <td>1</td>\n",
       "      <td>2</td>\n",
       "      <td>1</td>\n",
       "    </tr>\n",
       "    <tr>\n",
       "      <th>54</th>\n",
       "      <td>2</td>\n",
       "      <td>4</td>\n",
       "      <td>1</td>\n",
       "      <td>60</td>\n",
       "      <td>1</td>\n",
       "      <td>2</td>\n",
       "      <td>1</td>\n",
       "    </tr>\n",
       "    <tr>\n",
       "      <th>21</th>\n",
       "      <td>1</td>\n",
       "      <td>4</td>\n",
       "      <td>1</td>\n",
       "      <td>150</td>\n",
       "      <td>1</td>\n",
       "      <td>0</td>\n",
       "      <td>0</td>\n",
       "    </tr>\n",
       "    <tr>\n",
       "      <th>149</th>\n",
       "      <td>2</td>\n",
       "      <td>1</td>\n",
       "      <td>2</td>\n",
       "      <td>400</td>\n",
       "      <td>1</td>\n",
       "      <td>2</td>\n",
       "      <td>0</td>\n",
       "    </tr>\n",
       "    <tr>\n",
       "      <th>11</th>\n",
       "      <td>2</td>\n",
       "      <td>1</td>\n",
       "      <td>2</td>\n",
       "      <td>400</td>\n",
       "      <td>0</td>\n",
       "      <td>1</td>\n",
       "      <td>0</td>\n",
       "    </tr>\n",
       "  </tbody>\n",
       "</table>\n",
       "</div>"
      ],
      "text/plain": [
       "     Institute_brand_value  Course_Offered  Course_level  Total_Course_Hours  \\\n",
       "6                        2               1             2                 400   \n",
       "73                       0               3             2                 350   \n",
       "133                      2               0             0                 600   \n",
       "62                       2               3             2                 350   \n",
       "97                       0               4             1                 150   \n",
       "126                      2               4             1                  60   \n",
       "29                       1               1             2                 400   \n",
       "95                       2               2             2                 300   \n",
       "66                       2               2             2                 300   \n",
       "128                      2               0             0                 600   \n",
       "136                      2               4             1                  90   \n",
       "131                      2               4             1                 120   \n",
       "30                       2               4             1                 150   \n",
       "3                        2               4             1                  90   \n",
       "20                       2               2             2                 300   \n",
       "103                      2               2             2                 300   \n",
       "1                        0               2             2                 300   \n",
       "36                       2               1             2                 400   \n",
       "122                      2               1             2                 400   \n",
       "23                       0               1             2                 400   \n",
       "119                      0               1             2                 400   \n",
       "81                       1               2             2                 300   \n",
       "77                       2               2             2                 300   \n",
       "88                       2               2             2                 300   \n",
       "0                        1               1             2                 400   \n",
       "114                      0               1             2                 400   \n",
       "54                       2               4             1                  60   \n",
       "21                       1               4             1                 150   \n",
       "149                      2               1             2                 400   \n",
       "11                       2               1             2                 400   \n",
       "\n",
       "     Webportal_LifetimeAccess  Certification_Exam  Placement_Offered  \n",
       "6                           0                   1                  1  \n",
       "73                          1                   2                  1  \n",
       "133                         0                   1                  0  \n",
       "62                          1                   2                  0  \n",
       "97                          1                   2                  1  \n",
       "126                         1                   2                  0  \n",
       "29                          1                   0                  0  \n",
       "95                          1                   2                  1  \n",
       "66                          1                   2                  0  \n",
       "128                         0                   1                  0  \n",
       "136                         1                   2                  1  \n",
       "131                         0                   1                  0  \n",
       "30                          1                   2                  1  \n",
       "3                           0                   1                  0  \n",
       "20                          1                   2                  1  \n",
       "103                         0                   1                  0  \n",
       "1                           1                   2                  0  \n",
       "36                          0                   1                  1  \n",
       "122                         0                   1                  1  \n",
       "23                          1                   2                  1  \n",
       "119                         1                   2                  1  \n",
       "81                          1                   0                  0  \n",
       "77                          0                   1                  0  \n",
       "88                          0                   1                  0  \n",
       "0                           1                   0                  1  \n",
       "114                         1                   2                  1  \n",
       "54                          1                   2                  1  \n",
       "21                          1                   0                  0  \n",
       "149                         1                   2                  0  \n",
       "11                          0                   1                  0  "
      ]
     },
     "execution_count": 54,
     "metadata": {},
     "output_type": "execute_result"
    }
   ],
   "source": [
    "x_test"
   ]
  },
  {
   "cell_type": "code",
   "execution_count": 45,
   "id": "4fbafb8b",
   "metadata": {},
   "outputs": [],
   "source": [
    "y_rfpred = rf_model.predict(x_test)"
   ]
  },
  {
   "cell_type": "code",
   "execution_count": 46,
   "id": "9acf77dd",
   "metadata": {},
   "outputs": [
    {
     "name": "stdout",
     "output_type": "stream",
     "text": [
      "r2 score is 0.9999955340988728\n"
     ]
    }
   ],
   "source": [
    "score=r2_score(y_test,y_rfpred)\n",
    "print('r2 score is',score)"
   ]
  },
  {
   "cell_type": "code",
   "execution_count": 47,
   "id": "c5fe9ecc",
   "metadata": {},
   "outputs": [],
   "source": [
    "y_rftrainpred = rf_model.predict(x_train)"
   ]
  },
  {
   "cell_type": "code",
   "execution_count": 48,
   "id": "e87e759f",
   "metadata": {},
   "outputs": [
    {
     "name": "stdout",
     "output_type": "stream",
     "text": [
      "r2 score is 0.9999947315567543\n"
     ]
    }
   ],
   "source": [
    "score_train=r2_score(y_train,y_rftrainpred)\n",
    "print('r2 score is',score_train)"
   ]
  },
  {
   "cell_type": "code",
   "execution_count": null,
   "id": "0da8823a",
   "metadata": {},
   "outputs": [],
   "source": [
    "x"
   ]
  },
  {
   "cell_type": "code",
   "execution_count": null,
   "id": "f129fdf0",
   "metadata": {},
   "outputs": [],
   "source": []
  },
  {
   "cell_type": "code",
   "execution_count": null,
   "id": "41585277",
   "metadata": {},
   "outputs": [],
   "source": [
    "temp = pd.DataFrame({'variable':x.columns,'coefficient':model.coef_[0]}).sort_values('coefficient', ascending=False)\n",
    "temp"
   ]
  },
  {
   "cell_type": "code",
   "execution_count": null,
   "id": "8f52d7ce",
   "metadata": {},
   "outputs": [],
   "source": [
    "from sklearn.ensemble import ExtraTreesRegressor"
   ]
  },
  {
   "cell_type": "code",
   "execution_count": null,
   "id": "d7232e44",
   "metadata": {},
   "outputs": [],
   "source": [
    "model1 = ExtraTreesRegressor()"
   ]
  },
  {
   "cell_type": "code",
   "execution_count": null,
   "id": "709a0ae4",
   "metadata": {},
   "outputs": [],
   "source": [
    "model1.fit(x,y)"
   ]
  },
  {
   "cell_type": "code",
   "execution_count": null,
   "id": "b2a4a520",
   "metadata": {},
   "outputs": [],
   "source": [
    "model1.feature_importances_"
   ]
  },
  {
   "cell_type": "code",
   "execution_count": null,
   "id": "1ff36bb6",
   "metadata": {},
   "outputs": [],
   "source": [
    "temp1 = pd.DataFrame({'variable':x.columns,'importance':model1.feature_importances_}).sort_values('importance', ascending=False)\n",
    "temp1"
   ]
  },
  {
   "cell_type": "code",
   "execution_count": null,
   "id": "31751259",
   "metadata": {},
   "outputs": [],
   "source": [
    "import seaborn as sns"
   ]
  },
  {
   "cell_type": "code",
   "execution_count": null,
   "id": "0cd027c8",
   "metadata": {},
   "outputs": [],
   "source": [
    "chart = sns.barplot(x = \"variable\",y = \"coefficient\",data = temp)\n",
    "chart.set_xticklabels(chart.get_xticklabels(), rotation=90)\n",
    "plt.show()"
   ]
  },
  {
   "cell_type": "code",
   "execution_count": null,
   "id": "498ef51a",
   "metadata": {},
   "outputs": [],
   "source": [
    "import xgboost as xgb"
   ]
  },
  {
   "cell_type": "code",
   "execution_count": null,
   "id": "d348c5c7",
   "metadata": {},
   "outputs": [],
   "source": [
    "model_xgb = xgb.XGBRegressor()"
   ]
  },
  {
   "cell_type": "code",
   "execution_count": null,
   "id": "ef6a2877",
   "metadata": {},
   "outputs": [],
   "source": [
    "xgbr = model_xgb.fit(x_train,y_train)"
   ]
  },
  {
   "cell_type": "code",
   "execution_count": null,
   "id": "1faf9e64",
   "metadata": {},
   "outputs": [],
   "source": [
    "y_xgbpred = xgbr.predict(x_test)"
   ]
  },
  {
   "cell_type": "code",
   "execution_count": null,
   "id": "8794897c",
   "metadata": {},
   "outputs": [],
   "source": [
    "score_xg=r2_score(y_test,y_xgbpred)\n",
    "print('r2 score is',score_xg)"
   ]
  },
  {
   "cell_type": "code",
   "execution_count": null,
   "id": "93293841",
   "metadata": {},
   "outputs": [],
   "source": [
    "y_xgbtrain = xgbr.predict(x_train)"
   ]
  },
  {
   "cell_type": "code",
   "execution_count": null,
   "id": "939d461e",
   "metadata": {},
   "outputs": [],
   "source": [
    "score_xgtrain=r2_score(y_train,y_xgbtrain)\n",
    "print('r2 score is',score_xgtrain)"
   ]
  },
  {
   "cell_type": "code",
   "execution_count": 49,
   "id": "daf31bc6",
   "metadata": {},
   "outputs": [],
   "source": [
    "import pickle"
   ]
  },
  {
   "cell_type": "code",
   "execution_count": 50,
   "id": "05d36bb9",
   "metadata": {},
   "outputs": [],
   "source": [
    "file = open('edtechrandommodel1.pkl',\"wb\")\n",
    "pickle.dump(rf_model,file)"
   ]
  },
  {
   "cell_type": "code",
   "execution_count": 55,
   "id": "7728a404",
   "metadata": {},
   "outputs": [
    {
     "name": "stderr",
     "output_type": "stream",
     "text": [
      "C:\\Users\\Hp\\anaconda3\\lib\\site-packages\\sklearn\\base.py:450: UserWarning: X does not have valid feature names, but RandomForestRegressor was fitted with feature names\n",
      "  warnings.warn(\n"
     ]
    },
    {
     "data": {
      "text/plain": [
       "array([27500.])"
      ]
     },
     "execution_count": 55,
     "metadata": {},
     "output_type": "execute_result"
    }
   ],
   "source": [
    "rf_model.predict([[2,1,1,0,320,2,0,]])"
   ]
  },
  {
   "cell_type": "code",
   "execution_count": null,
   "id": "f342b81f",
   "metadata": {},
   "outputs": [],
   "source": [
    "1,1,2,2,400,1,0,1"
   ]
  }
 ],
 "metadata": {
  "kernelspec": {
   "display_name": "Python 3",
   "language": "python",
   "name": "python3"
  },
  "language_info": {
   "codemirror_mode": {
    "name": "ipython",
    "version": 3
   },
   "file_extension": ".py",
   "mimetype": "text/x-python",
   "name": "python",
   "nbconvert_exporter": "python",
   "pygments_lexer": "ipython3",
   "version": "3.8.8"
  }
 },
 "nbformat": 4,
 "nbformat_minor": 5
}
